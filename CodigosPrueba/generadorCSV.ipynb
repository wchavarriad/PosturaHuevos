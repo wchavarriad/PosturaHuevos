{
 "cells": [
  {
   "cell_type": "code",
   "execution_count": 1,
   "id": "9561c505",
   "metadata": {},
   "outputs": [
    {
     "name": "stdout",
     "output_type": "stream",
     "text": [
      "✅ Archivo generado: control_produccion_huevos_actualizado.csv\n"
     ]
    }
   ],
   "source": [
    "import pandas as pd\n",
    "\n",
    "# Datos (usa el bloque que compartimos antes)\n",
    "data = {\n",
    "    'Fecha': ['Marzo 29', 'Marzo 30', 'Marzo 31', 'Abril 1', 'Abril 2', 'Abril 3', 'Abril 4',\n",
    "              'Abril 5', 'Abril 6', 'Abril 7', 'Abril 8', 'Abril 9', 'Abril 10', 'Abril 11',\n",
    "              'Abril 12', 'Abril 13', 'Abril 14', 'Abril 15', 'Abril 16', 'Abril 17', 'Abril 18',\n",
    "              'Abril 19', 'Abril 20', 'Abril 21', 'Abril 22', 'Abril 23', 'Abril 24', 'Abril 25',\n",
    "              'Abril 26', 'Abril 27', 'Abril 28', 'Abril 29', 'Mayo 1', 'Mayo 2', 'Mayo 3',\n",
    "              'Mayo 4', 'Mayo 5', 'Mayo 6', 'Mayo 7', 'Mayo 8', 'Mayo 9', 'Mayo 10',\n",
    "              'Mayo 11', 'Mayo 12', 'Mayo 13', 'Mayo 14', 'Mayo 15', 'Mayo 16', 'Mayo 17',\n",
    "              'Mayo 18', 'Mayo 19', 'Mayo 20', 'Mayo 21', 'Mayo 22', 'Mayo 23'],\n",
    "    '#1': [609, 645, 630, 600, 636, 636, 633,\n",
    "           660, 630, 600, 630, 636, 630, 600,\n",
    "           630, 630, 360, 630, 636, 636, 630,\n",
    "           630, 635, 635, 630, 630, 636, 639,\n",
    "           630, 630, 570, 560, 510, 466, 516,\n",
    "           566, 592, 600, 581, 570, 554, 571,\n",
    "           572, 581, 587, 582, 549, 576, 571,\n",
    "           570, 570, 580, 581, 583, 570],\n",
    "    '#2': [780, 791, 789, 763, 791, 786, 782,\n",
    "           750, 750, 780, 796, 784, 780, 810,\n",
    "           810, 780, 800, 799, 792, 795, 810,\n",
    "           795, 810, 754, 780, 788, 750, 743,\n",
    "           691, 667, 690, 750, 633, 750, 690,\n",
    "           630, 692, 692, 683, 716, 692, 720,\n",
    "           699, 732, 727, 720, 732, 729, 726,\n",
    "           720, 726, 735, 740, 732, 720],\n",
    "    '#3': [170, 57, 31, 36, 31, 0, 0,\n",
    "           0, 0, 0, 0, 0, 0, 0,\n",
    "           0, 0, 281, 300, 313, 356, 360,\n",
    "           390, 480, 540, 540, 549, 570, 600,\n",
    "           600, 707, 720, 720, 690, 622, 630,\n",
    "           660, 690, 690, 720, 720, 738, 739,\n",
    "           737, 738, 720, 750, 750, 755, 750,\n",
    "           750, 750, 768, 770, 780, 780],\n",
    "    'Quebrados': [20, 16, 25, 13, 25, 17, 30,\n",
    "                  40, 20, 15, 30, 30, 30, 27,\n",
    "                  30, 25, 19, 19, 25, 25, 26,\n",
    "                  26, 22, 30, 24, 28, 28, 27,\n",
    "                  23, 29, 22, 27, 20, 18, 20,\n",
    "                  30, 25, 15, 15, 28, 17, 22,\n",
    "                  25, 25, 28, 25, 27, 24, 15,\n",
    "                  14, 29, 25, 10, 20, 20],\n",
    "    'Pollitas': [27, 0, 52, 30, 95, 105, 95,\n",
    "                 81, 114, 141, 115, 134, 230, 255,\n",
    "                 260, 270, 0, 0, 0, 0, 0,\n",
    "                 0, 0, 0, 0, 0, 0, 0,\n",
    "                 0, 0, 0, 0, 0, 0, 0,\n",
    "                 0, 0, 0, 0, 0, 0, 0,\n",
    "                 0, 0, 0, 0, 0, 0, 0,\n",
    "                 0, 0, 0, 0, 0, 0],\n",
    "    'Total (Manuscrito)': ['1,579', '1,509', '1,475', '1,412', '1,483', '1,544', '1,540',\n",
    "                           '1,531', '1,523', '1,535', '1,609', '1,584', '1,670', '1,692',\n",
    "                           '1,730', '1,705', '1,730', '1,729', '1,765', '1,812', '1,826',\n",
    "                           '1,841', '1,942', '1,959', '1,974', '1,995', '1,984', '2,009',\n",
    "                           '1,944', '2,033', '2,002', '2,057', '1,853', '1,856', '1,856',\n",
    "                           '1,886', '1,999', '1,997', '1,999', '2,034', '2,001', '2,052',\n",
    "                           '2,033', '2,076', '2,068', '2,077', '2,058', '2,084', '2,062',\n",
    "                           '20254', '2,075', '2,108', '2,101', '2,115', '2,090']\n",
    "}\n",
    "\n",
    "# Crear DataFrame y calcular columnas adicionales\n",
    "df = pd.DataFrame(data)\n",
    "for col in ['#1', '#2', '#3', 'Quebrados', 'Pollitas']:\n",
    "    df[col] = pd.to_numeric(df[col], errors='coerce').fillna(0)\n",
    "\n",
    "df['Total Calculado (#1+#2+#3+Pollitas)'] = df['#1'] + df['#2'] + df['#3'] + df['Pollitas']\n",
    "df['% Quebrado'] = (df['Quebrados'] / df['Total Calculado (#1+#2+#3+Pollitas)']) * 100\n",
    "df['% Quebrado'] = df['% Quebrado'].round(2).astype(str) + '%'\n",
    "\n",
    "# Guardar como CSV\n",
    "nombre_archivo = 'control_produccion_huevos_actualizado.csv'\n",
    "df.to_csv(nombre_archivo, index=False, encoding='utf-8')\n",
    "\n",
    "print(f\"✅ Archivo generado: {nombre_archivo}\")\n"
   ]
  }
 ],
 "metadata": {
  "kernelspec": {
   "display_name": "Python 3",
   "language": "python",
   "name": "python3"
  },
  "language_info": {
   "codemirror_mode": {
    "name": "ipython",
    "version": 3
   },
   "file_extension": ".py",
   "mimetype": "text/x-python",
   "name": "python",
   "nbconvert_exporter": "python",
   "pygments_lexer": "ipython3",
   "version": "3.11.12"
  }
 },
 "nbformat": 4,
 "nbformat_minor": 5
}
